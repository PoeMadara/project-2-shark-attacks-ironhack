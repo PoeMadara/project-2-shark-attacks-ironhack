{
 "cells": [
  {
   "cell_type": "code",
   "execution_count": null,
<<<<<<< Updated upstream
   "metadata": {},
   "outputs": [],
   "source": [
<<<<<<< HEAD
    "# pip install xlrd==2.0.1"
   ]
  },
  {
   "cell_type": "code",
   "execution_count": null,
=======
>>>>>>> Stashed changes
   "metadata": {},
   "outputs": [],
   "source": [
=======
>>>>>>> feb779d442c7232b9f58106076b8da425802ab39
    "import pandas as pd\n",
    "from functions import load_data, clean_data, style_table\n",
    "\n",
<<<<<<< HEAD
<<<<<<< Updated upstream
    "url = \"https://www.sharkattackfile.net/spreadsheets/GSAF5.xls\"\n",
=======
=======
>>>>>>> feb779d442c7232b9f58106076b8da425802ab39
    "def main():\n",
    "    # Load and clean data\n",
    "    url = \"https://www.sharkattackfile.net/spreadsheets/GSAF5.xls\"\n",
    "    df_sa = load_data(url)\n",
    "    df_sa = clean_data(df_sa)\n",
<<<<<<< HEAD
>>>>>>> Stashed changes
=======
>>>>>>> feb779d442c7232b9f58106076b8da425802ab39
    "\n",
    "    # Ask the user if they want to display the table\n",
    "    show_table = input(\"Show table? Y/N: \").strip().lower()\n",
    "\n",
<<<<<<< HEAD
<<<<<<< Updated upstream
    "df_sa"
   ]
  },
  {
   "cell_type": "code",
   "execution_count": null,
   "metadata": {},
   "outputs": [],
   "source": [
    "pd.set_option('display.max_columns', None)"
   ]
  },
  {
   "cell_type": "code",
   "execution_count": null,
   "metadata": {},
   "outputs": [],
   "source": [
    "df_sa.sample(20)"
=======
=======
>>>>>>> feb779d442c7232b9f58106076b8da425802ab39
    "    if show_table == 'y':\n",
    "        styled_df = style_table(df_sa)\n",
    "        display(styled_df)\n",
    "\n",
    "if __name__ == \"__main__\":\n",
    "    main()\n"
<<<<<<< HEAD
>>>>>>> Stashed changes
=======
>>>>>>> feb779d442c7232b9f58106076b8da425802ab39
   ]
  }
 ],
 "metadata": {
  "kernelspec": {
   "display_name": "Python 3",
   "language": "python",
   "name": "python3"
  },
  "language_info": {
   "codemirror_mode": {
    "name": "ipython",
    "version": 3
   },
   "file_extension": ".py",
   "mimetype": "text/x-python",
   "name": "python",
   "nbconvert_exporter": "python",
   "pygments_lexer": "ipython3",
   "version": "3.12.4"
  }
 },
 "nbformat": 4,
 "nbformat_minor": 2
}
