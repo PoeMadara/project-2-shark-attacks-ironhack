{
 "cells": [
  {
   "cell_type": "code",
   "execution_count": 2,
   "metadata": {},
   "outputs": [],
   "source": [
    "import pandas as pd\n",
    "from functions import load_data, clean_data, style_table\n",
    "\n",
    "def main():\n",
    "    # Load and clean data\n",
    "    url = \"https://www.sharkattackfile.net/spreadsheets/GSAF5.xls\"\n",
    "    df = load_data(url)\n",
    "    df = clean_data(df)\n",
    "\n",
    "    # Ask the user if they want to display the table\n",
    "    show_table = input(\"Show table? Y/N: \").strip().lower()\n",
    "\n",
    "    if show_table == 'y':\n",
    "        styled_df = style_table(df)\n",
    "        display(styled_df)\n",
    "\n",
    "if __name__ == \"__main__\":\n",
    "    main()\n"
   ]
  }
 ],
 "metadata": {
  "kernelspec": {
   "display_name": "Python 3",
   "language": "python",
   "name": "python3"
  },
  "language_info": {
   "codemirror_mode": {
    "name": "ipython",
    "version": 3
   },
   "file_extension": ".py",
   "mimetype": "text/x-python",
   "name": "python",
   "nbconvert_exporter": "python",
   "pygments_lexer": "ipython3",
   "version": "3.12.4"
  }
 },
 "nbformat": 4,
 "nbformat_minor": 2
}
