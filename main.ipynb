{
 "cells": [
  {
   "cell_type": "code",
   "execution_count": null,
   "metadata": {},
   "outputs": [],
   "source": [
    "import pandas as pd\n",
    "import matplotlib.pyplot as plt\n",
    "\n",
    "\n",
    "from functions import main_cleaning\n",
    "\n",
    "pd.set_option('display.max_rows', None)\n",
    "pd.set_option('display.max_columns', None)\n",
    "\n",
    "url = \"https://www.sharkattackfile.net/spreadsheets/GSAF5.xls\"\n",
    "\n",
    "df_sa = pd.read_excel(url)\n"
   ]
  },
  {
   "cell_type": "code",
   "execution_count": null,
   "metadata": {},
   "outputs": [],
   "source": [
    "df_sa.head()"
   ]
  },
  {
   "cell_type": "code",
   "execution_count": null,
   "metadata": {},
   "outputs": [],
   "source": [
    "valid_species = {\n",
    "    'Tiger shark', 'White shark', 'Bull shark', 'Hammerhead shark', 'Great white shark', \n",
    "    'Mako shark', 'Blacktip shark', 'Reef shark', 'Nurse shark', 'Whale shark', 'Tiger shark'\n",
    "}\n",
    "\n",
    "df_sa = main_cleaning(df_sa, valid_species)\n"
   ]
  },
  {
   "cell_type": "code",
   "execution_count": null,
   "metadata": {},
   "outputs": [],
   "source": [
    "df_sa.head()"
   ]
  },
  {
   "cell_type": "code",
   "execution_count": null,
   "metadata": {},
   "outputs": [],
   "source": [
    "df_sa = df_sa[df_sa[\"sex\"] != \"Lli\"]\n",
    "pivot_table = df_sa.pivot_table(index=[\"sex\", \"fatal\"], columns=\"country\", aggfunc=\"count\")\n",
    "pivot_table = pivot_table.fillna(0)\n",
    "pivot_table"
   ]
  },
  {
   "cell_type": "code",
   "execution_count": null,
   "metadata": {},
   "outputs": [],
   "source": [
    "import pandas as pd\n",
    "import matplotlib.pyplot as plt\n",
    "\n",
    "# Suponiendo que pivot_table ya está creado\n",
    "pivot_table = df_sa.pivot_table(index=[\"sex\", \"fatal\"], columns=\"country\", aggfunc=\"size\", fill_value=0)\n",
    "\n",
    "# Convertir el pivot_table a un DataFrame plano para facilitar la gráfica\n",
    "flat_df = pivot_table.reset_index()\n",
    "\n",
    "# Crear el gráfico de barras apiladas\n",
    "flat_df.set_index(['sex', 'fatal']).plot(kind='bar', stacked=True, ylabel='Count')\n",
    "\n",
    "# Ajustar el gráfico\n",
    "plt.title('Count by Country, Sex, and Fatal')\n",
    "plt.xlabel('Sex and Fatal')\n",
    "plt.ylabel('Count')\n",
    "plt.legend(title='Country', bbox_to_anchor=(1.05, 1), loc='upper left')\n",
    "plt.tight_layout()\n",
    "\n",
    "# Mostrar el gráfico\n",
    "plt.show()\n"
   ]
  },
  {
   "cell_type": "code",
   "execution_count": null,
   "metadata": {},
   "outputs": [],
   "source": [
    "# Save the cleaned DataFrame to an Excel file\n",
    "df_sa.to_excel('Cleaned_GSAF5.xlsx', index=False)"
   ]
  }
 ],
 "metadata": {
  "kernelspec": {
   "display_name": "Python 3",
   "language": "python",
   "name": "python3"
  },
  "language_info": {
   "codemirror_mode": {
    "name": "ipython",
    "version": 3
   },
   "file_extension": ".py",
   "mimetype": "text/x-python",
   "name": "python",
   "nbconvert_exporter": "python",
   "pygments_lexer": "ipython3",
   "version": "3.12.5"
  }
 },
 "nbformat": 4,
 "nbformat_minor": 2
}
