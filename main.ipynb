{
 "cells": [
  {
   "cell_type": "code",
   "execution_count": null,
   "metadata": {},
   "outputs": [],
   "source": [
    "# Columns test\n",
    "\n",
    "import pandas as pd\n",
    "\n",
    "# Function to load the data\n",
    "def load_data(url):\n",
    "    df = pd.read_excel(url)\n",
    "    return df\n",
    "\n",
    "# Function to clean the data\n",
    "def clean_data(df):\n",
    "    # Rename the 'Unnamed: 11' column to 'Fatal'\n",
    "    df = df.rename(columns={'Unnamed: 11': 'Fatal', 'Species ': 'Species'})\n",
    "    \n",
    "    # Drop rows with null values in the specified columns\n",
    "    df = df.dropna(subset=['Time', 'Species', 'Source', 'pdf'])\n",
    "    \n",
    "    # Drop duplicates\n",
    "    df = df.drop_duplicates()\n",
    "    \n",
    "    return df\n",
    "\n",
    "# URL of the file\n",
    "url = \"https://www.sharkattackfile.net/spreadsheets/GSAF5.xls\"\n",
    "\n",
    "# Load the data\n",
    "df_sa = load_data(url)\n",
    "\n",
    "# Clean the data\n",
    "df_sa = clean_data(df_sa)\n",
    "\n",
    "# Get unique values of the specified columns\n",
    "unique_time = df_sa['Time'].unique()\n",
    "unique_species = df_sa['Species'].unique()\n",
    "unique_source = df_sa['Source'].unique()\n",
    "unique_pdf = df_sa['pdf'].unique()\n",
    "unique_fatal = df_sa['Fatal'].unique()\n",
    "\n",
    "print(\"Unique values in the 'Time' column:\", unique_time)\n",
    "print(\"Unique values in the 'Species' column:\", unique_species)\n",
    "print(\"Unique values in the 'Source' column:\", unique_source)\n",
    "print(\"Unique values in the 'pdf' column:\", unique_pdf)\n",
    "print(\"Unique values in the 'Fatal' column:\", unique_fatal)\n"
   ]
  },
  {
   "cell_type": "code",
   "execution_count": null,
   "metadata": {},
   "outputs": [],
   "source": [
    "# Test\n",
    "\n",
    "df_sa = load_data(url)\n",
    "\n",
    "# Print the column names\n",
    "print(df_sa.columns)"
   ]
  },
  {
   "cell_type": "code",
   "execution_count": null,
   "metadata": {},
   "outputs": [],
   "source": [
    "# Main Code\n",
    "\n",
    "import pandas as pd\n",
    "from functions import load_data, clean_data, style_table\n",
    "\n",
    "def main():\n",
    "    # Load and clean data\n",
    "    url = \"https://www.sharkattackfile.net/spreadsheets/GSAF5.xls\"\n",
    "    df_sa = load_data(url)\n",
    "    df_sa = clean_data(df_sa)\n",
    "\n",
    "    # Ask the user if they want to display the table\n",
    "    show_table = input(\"Show table? Y/N: \").strip().lower()\n",
    "\n",
    "    if show_table == 'y':\n",
    "        styled_df = style_table(df_sa)\n",
    "        display(styled_df)\n",
    "    \n",
    "    display(df_sa.head(10))\n",
    "\n",
    "if __name__ == \"__main__\":\n",
    "    main()"
   ]
  },
  {
   "cell_type": "code",
   "execution_count": null,
   "metadata": {},
   "outputs": [],
   "source": [
    "# Show graphics for null values\n",
    "\n",
    "import matplotlib.pyplot as plt\n",
    "import seaborn as sns\n",
    "\n",
    "url = \"https://www.sharkattackfile.net/spreadsheets/GSAF5.xls\"\n",
    "df_sa = load_data(url)\n",
    "df_sa = clean_data(df_sa)\n",
    "sns.heatmap(df_sa.isnull(), cbar=False)\n",
    "plt.show()"
   ]
  }
 ],
 "metadata": {
  "kernelspec": {
   "display_name": "Python 3",
   "language": "python",
   "name": "python3"
  },
  "language_info": {
   "codemirror_mode": {
    "name": "ipython",
    "version": 3
   },
   "file_extension": ".py",
   "mimetype": "text/x-python",
   "name": "python",
   "nbconvert_exporter": "python",
   "pygments_lexer": "ipython3",
   "version": "3.12.4"
  }
 },
 "nbformat": 4,
 "nbformat_minor": 2
}
