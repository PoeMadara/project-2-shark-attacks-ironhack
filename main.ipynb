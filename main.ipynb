{
 "cells": [
  {
   "cell_type": "code",
<<<<<<< Updated upstream
   "execution_count": null,
   "metadata": {},
   "outputs": [],
=======
   "execution_count": 2,
   "metadata": {},
   "outputs": [],
   "source": [
    "# import pandas as pd\n",
    "# from functions import load_data, clean_data, style_table\n",
    "\n",
    "# def main():\n",
    "#     # Load and clean data\n",
    "#     url = \"https://www.sharkattackfile.net/spreadsheets/GSAF5.xls\"\n",
    "#     df_sa = load_data(url)\n",
    "#     df_sa = clean_data(df_sa)\n",
    "\n",
    "#     # Ask the user if they want to display the table\n",
    "#     show_table = input(\"Show table? Y/N: \").strip().lower()\n",
    "\n",
    "#     if show_table == 'y':\n",
    "#         styled_df = style_table(df_sa)\n",
    "#         display(styled_df)\n",
    "    \n",
    "#     display(df_sa.head(10))\n",
    "\n",
    "# if __name__ == \"__main__\":\n",
    "#     main()"
   ]
  },
  {
   "cell_type": "code",
   "execution_count": 1,
   "metadata": {},
   "outputs": [],
   "source": [
    "import pandas as pd\n",
    "from functions import *\n",
    "\n",
    "url = \"https://www.sharkattackfile.net/spreadsheets/GSAF5.xls\"\n",
    "\n",
    "df_sa = pd.read_excel(url)\n"
   ]
  },
  {
   "cell_type": "code",
   "execution_count": 2,
   "metadata": {},
   "outputs": [],
   "source": [
    "df_sa = rename_cols(df_sa)\n"
   ]
  },
  {
   "cell_type": "code",
   "execution_count": 4,
   "metadata": {},
   "outputs": [
    {
     "data": {
      "text/plain": [
       "Index(['date', 'year', 'type', 'country', 'state', 'location', 'activity',\n",
       "       'name', 'sex', 'age', 'injury', 'unnamed:_11', 'time', 'species_',\n",
       "       'source', 'pdf', 'href_formula', 'href', 'case_number', 'case_number.1',\n",
       "       'original_order', 'unnamed:_21', 'unnamed:_22'],\n",
       "      dtype='object')"
      ]
     },
     "execution_count": 4,
     "metadata": {},
     "output_type": "execute_result"
    }
   ],
>>>>>>> Stashed changes
   "source": [
    "# main.ipynb\n",
    "\n",
    "import functions as fn\n",
    "import pandas as pd\n",
    "\n",
    "# Step 1: Download the Excel file from the URL\n",
    "url = \"https://www.sharkattackfile.net/spreadsheets/GSAF5.xls\"\n",
    "fn.download_excel(url, 'GSAF5.xls')\n",
    "\n",
    "# Step 2: Load the Excel file\n",
    "df_sa = fn.load_excel('GSAF5.xls')\n",
    "\n",
    "# Step 3: Rename columns for better clarity and consistency\n",
    "df_sa = fn.rename_columns(df_sa)\n",
    "\n",
    "# Step 4: Clean the 'Fatal' column\n",
    "df_sa = fn.clean_fatal_column(df_sa)\n",
    "\n",
    "# Step 5: Clean and standardize the 'Time' column\n",
    "df_sa = fn.clean_time_column(df_sa)\n",
    "\n",
    "# Step 6: Clean the 'Species' column\n",
    "df_sa = fn.clean_species_column(df_sa)\n",
    "\n",
    "# Step 7: Clean the 'Source' column\n",
    "df_sa = fn.clean_source_column(df_sa)\n",
    "\n",
    "# Step 8: Clean the 'PDF' column\n",
    "df_sa = fn.clean_pdf_column(df_sa)\n",
    "\n",
    "# Step 9: Save the cleaned data back to a new Excel file\n",
    "fn.save_excel(df_sa, 'Cleaned_GSAF5.xlsx')\n",
    "\n",
    "print(\"Data cleaning complete. The cleaned data has been saved to 'Cleaned_GSAF5.xlsx'.\")\n",
    "\n"
   ]
  }
 ],
 "metadata": {
  "kernelspec": {
   "display_name": "Python 3 (ipykernel)",
   "language": "python",
   "name": "python3"
  },
  "language_info": {
   "codemirror_mode": {
    "name": "ipython",
    "version": 3
   },
   "file_extension": ".py",
   "mimetype": "text/x-python",
   "name": "python",
   "nbconvert_exporter": "python",
   "pygments_lexer": "ipython3",
   "version": "3.12.4"
  }
 },
 "nbformat": 4,
 "nbformat_minor": 4
}
